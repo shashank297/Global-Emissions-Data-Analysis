{
  "nbformat": 4,
  "nbformat_minor": 0,
  "metadata": {
    "colab": {
      "provenance": [],
      "authorship_tag": "ABX9TyM+ceu6Gz+/2QoOovg+QH3g",
      "include_colab_link": true
    },
    "kernelspec": {
      "name": "python3",
      "display_name": "Python 3"
    },
    "language_info": {
      "name": "python"
    }
  },
  "cells": [
    {
      "cell_type": "markdown",
      "metadata": {
        "id": "view-in-github",
        "colab_type": "text"
      },
      "source": [
        "<a href=\"https://colab.research.google.com/github/shashank297/Global-Emissions-Data-Analysis/blob/main/Data_Insides_Global_Emissions.ipynb\" target=\"_parent\"><img src=\"https://colab.research.google.com/assets/colab-badge.svg\" alt=\"Open In Colab\"/></a>"
      ]
    },
    {
      "cell_type": "code",
      "execution_count": null,
      "metadata": {
        "id": "2rqn6Lm3jbjE"
      },
      "outputs": [],
      "source": []
    },
    {
      "cell_type": "markdown",
      "source": [
        "### **Before Outliars removal**\n",
        "- The data has the `1548` rows and `8` columns\n",
        "- In the dataset there are outliers.\n",
        "  - most of them has the `region`:- `Other` and `Country`:- `World`\n",
        "  - So, diceded to remove them from the dataset for Analysis.\n",
        "  - `emissions` has the mean value `643.25` and median `24.06`\n",
        "  - There is also significant difference between 25% percentile-`2.65`, 50% percentile -`24.06`, 75% percentile- `128.41`, max:- `141953.76`\n",
        "\n",
        "### **After Outliars removal**\n",
        "- The data has the `1295` rows and `8` columns now.\n",
        "- Now emissions column has the mean `42.07` and median is `12.06`\n",
        "- difference between 25% percentile-`1.71`, 50% percentile -`12.06`, 75% percentile- `51.98`, max:- `312.39`\n",
        "\n"
      ],
      "metadata": {
        "id": "3Ipxl3tCjnAp"
      }
    },
    {
      "cell_type": "markdown",
      "source": [
        "##**Univariate Analysis**"
      ],
      "metadata": {
        "id": "Te9C_kLS0-6i"
      }
    },
    {
      "cell_type": "markdown",
      "source": [
        "- `region`:-Africa has the higher count `364` with the with a `28.1` Percentage.\n",
        "\n",
        "- `country`:-New Zealand has the highest count in the country column is `20` and the mean of the Value _count is `12.45`\n",
        "\n",
        "- `type`:- In the this column `energy` has the highest count with `84.2%` percente and `Agriculture` `3.7%`, `Waste` `4.7%`, `Other` `7.3%`.\n",
        "\n",
        "- `segment`:- In the this column `total` has the highest count `260` with the `20.01%` then `Onshore oil` with `189` with `14.6%` percentage\n",
        "\n",
        "- `reason`:- In this column `ALL` has the hightest count with `42.9%` then `25.2%` with fugitive\n",
        "\n",
        "- `baseyear`:- In this column the `2022` has the highest count with `84.2%` and `2021` has `15.8%`.\n",
        "\n",
        "**Numrical column Univariant analysis**\n",
        "\n",
        "`Emissions`:- In this column maximum values between 0 to 25\n"
      ],
      "metadata": {
        "id": "hTX38VanuO2Y"
      }
    },
    {
      "cell_type": "markdown",
      "source": [
        "##**Bivariate Analysis**\n"
      ],
      "metadata": {
        "id": "g2Mk2wTi05e-"
      }
    },
    {
      "cell_type": "markdown",
      "source": [
        "### **Region**\n",
        "- `North America`:- has the highest mean in the column `70.84`, min:-`0.000459`, max:- `309.15`,count:- `37`\n",
        "- `Africa`:- has the highest count `364`, mean:-`40.10`, min:- `0.00264`,max:-`295`\n",
        "- `Russia & Caspian`:- has the hightest max value in the column `312.39` ,mean:- `69.92`, count:- `70`, min:- `0.012`\n",
        "\n",
        "### **Country**\n",
        "- `Central African Republic`:- Has the highest emissions mean `149.047` in the column but has only `3` count.\n",
        "- `New Zealand`:- Has the highest count in the column but has the emissions mean `12.39`\n",
        "- `Turkmenistan`:- Has the max `312.39`kt. emissions and `104.78`kt mean.\n",
        "\n",
        "### **Type**\n",
        "- `Waste`:- Has the highest mean emissions `113.61`kt. count `61`\n",
        "- `Energy`:- has the highest count with `1091` and has the mean emissions `35.56`\n",
        "\n",
        "### **Segment**\n",
        "- `Total` has the highest mean emissions `84.11` and `260` count but has the also highest range:- `0.008-304.87`\n",
        "- `Gas pipelines and LNG facilities` has the max value of `emissions` :- `312.39`\n",
        "\n",
        "### **Reason**\n",
        "- `All` Has the highest emissions mean `53.79`, Also has the highest count `556`\n",
        "- `Vented` has the 2nd highest emissions mean `43.66`, Also has the highest count `304` \n",
        "- `Flared` has the lowest emissions mean `24.64` and lowest count `109` \n",
        "- `Fugitive` has the emissions mean `26.50` and has the count `326`\n",
        "  - In this count is not that low but mean is low as per count.\n",
        "  - because it has most of the emissions values spread between 0 to 25\n",
        "\n",
        "### **Baseyear**\n",
        "- `2021` has the highest mean emissions `76.87` and has the `204` count.\n",
        "- `2022` has the mean emissions `35.56` and `1091` count.\n",
        "  - 2022 has the highest count but mean is not that high because there is a high distribution in lower section."
      ],
      "metadata": {
        "id": "X9WkICsByTOb"
      }
    }
  ]
}